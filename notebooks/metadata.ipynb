{
 "cells": [
  {
   "cell_type": "code",
   "execution_count": 6,
   "metadata": {},
   "outputs": [],
   "source": [
    "from sentence_transformers import SentenceTransformer\n",
    "import os\n",
    "from transformers import AutoTokenizer"
   ]
  },
  {
   "cell_type": "code",
   "execution_count": 2,
   "metadata": {},
   "outputs": [],
   "source": [
    "all_sentences = [\n",
    "    \"purple is the best city in the forest\",\n",
    "    \"No way chimps go bananas for snacks!\",\n",
    "    \"it is not often you find soggy bananas on the street\",\n",
    "    \"green should have smelled more tranquil but somehow it just tasted rotten\",\n",
    "    \"joyce enjoyed eating pancakes with ketchup\",\n",
    "    \"throwing bananas on to the street is not art\",\n",
    "    \"as the asteroid hurtled toward earth becky was upset her dentist appointment had been canceled\",\n",
    "    \"I'm getting way too old. I don't even buy green bananas anymore.\",\n",
    "    \"to get your way you must not bombard the road with yellow fruit\",\n",
    "    \"Time flies like an arrow; fruit flies like a banana\"\n",
    "]"
   ]
  },
  {
   "cell_type": "code",
   "execution_count": 3,
   "metadata": {},
   "outputs": [
    {
     "name": "stderr",
     "output_type": "stream",
     "text": [
      "Downloading (…)e933c/.gitattributes: 100%|██████████| 737/737 [00:00<00:00, 624kB/s]\n",
      "Downloading (…)_Pooling/config.json: 100%|██████████| 190/190 [00:00<00:00, 686kB/s]\n",
      "Downloading (…)cbe6ee933c/README.md: 100%|██████████| 9.85k/9.85k [00:00<00:00, 14.2MB/s]\n",
      "Downloading (…)e6ee933c/config.json: 100%|██████████| 591/591 [00:00<00:00, 2.24MB/s]\n",
      "Downloading (…)ce_transformers.json: 100%|██████████| 116/116 [00:00<00:00, 241kB/s]\n",
      "Downloading (…)33c/data_config.json: 100%|██████████| 15.7k/15.7k [00:00<00:00, 23.2MB/s]\n",
      "Downloading pytorch_model.bin: 100%|██████████| 438M/438M [00:06<00:00, 68.6MB/s] \n",
      "Downloading (…)nce_bert_config.json: 100%|██████████| 53.0/53.0 [00:00<00:00, 209kB/s]\n",
      "Downloading (…)cial_tokens_map.json: 100%|██████████| 239/239 [00:00<00:00, 1.03MB/s]\n",
      "Downloading (…)e933c/tokenizer.json: 100%|██████████| 466k/466k [00:00<00:00, 5.86MB/s]\n",
      "Downloading (…)okenizer_config.json: 100%|██████████| 383/383 [00:00<00:00, 1.17MB/s]\n",
      "Downloading (…)933c/train_script.py: 100%|██████████| 13.2k/13.2k [00:00<00:00, 11.6MB/s]\n",
      "Downloading (…)cbe6ee933c/vocab.txt: 100%|██████████| 232k/232k [00:00<00:00, 33.3MB/s]\n",
      "Downloading (…)6ee933c/modules.json: 100%|██████████| 349/349 [00:00<00:00, 695kB/s]\n"
     ]
    },
    {
     "data": {
      "text/plain": [
       "(10, 768)"
      ]
     },
     "execution_count": 3,
     "metadata": {},
     "output_type": "execute_result"
    }
   ],
   "source": [
    "model = SentenceTransformer('flax-sentence-embeddings/all_datasets_v3_mpnet-base')\n",
    "all_embeddings = model.encode(all_sentences)\n",
    "all_embeddings.shape"
   ]
  },
  {
   "cell_type": "code",
   "execution_count": 7,
   "metadata": {},
   "outputs": [
    {
     "name": "stderr",
     "output_type": "stream",
     "text": [
      "Downloading: 100%|██████████| 856/856 [00:00<00:00, 2.82MB/s]\n",
      "Downloading: 100%|██████████| 8.72M/8.72M [00:00<00:00, 35.3MB/s]\n",
      "Downloading: 100%|██████████| 8.72M/8.72M [00:00<00:00, 20.3MB/s]\n"
     ]
    },
    {
     "data": {
      "text/plain": [
       "['purple', 'is', 'the', 'best', 'city', 'in', 'the', 'forest']"
      ]
     },
     "execution_count": 7,
     "metadata": {},
     "output_type": "execute_result"
    }
   ],
   "source": [
    "tokenizer = AutoTokenizer.from_pretrained('transfo-xl-wt103')\n",
    "all_tokens = [tokenizer.tokenize(sentence.lower()) for sentence in all_sentences]\n",
    "all_tokens[0]"
   ]
  },
  {
   "cell_type": "code",
   "execution_count": 8,
   "metadata": {},
   "outputs": [
    {
     "data": {
      "text/plain": [
       "[]"
      ]
     },
     "execution_count": 8,
     "metadata": {},
     "output_type": "execute_result"
    }
   ],
   "source": [
    "import pinecone\n",
    "pinecone.init(\n",
    "    api_key=os.environ[\"PINECONE_API_KEY\"],\n",
    "    environment=os.environ[\"PINECONE_ENVIRONMENT\"],\n",
    ")\n",
    "pinecone.list_indexes()"
   ]
  },
  {
   "cell_type": "code",
   "execution_count": null,
   "metadata": {},
   "outputs": [],
   "source": []
  }
 ],
 "metadata": {
  "kernelspec": {
   "display_name": "plutonium_env",
   "language": "python",
   "name": "python3"
  },
  "language_info": {
   "codemirror_mode": {
    "name": "ipython",
    "version": 3
   },
   "file_extension": ".py",
   "mimetype": "text/x-python",
   "name": "python",
   "nbconvert_exporter": "python",
   "pygments_lexer": "ipython3",
   "version": "3.10.13"
  }
 },
 "nbformat": 4,
 "nbformat_minor": 2
}
